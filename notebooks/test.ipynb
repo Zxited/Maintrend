{
 "cells": [
  {
   "cell_type": "code",
   "execution_count": null,
   "metadata": {},
   "outputs": [],
   "source": [
    "import os\n",
    "import json\n",
    "import datetime\n",
    "import requests\n",
    "import pandas as pd\n",
    "import numpy as np\n",
    "import util.data_puller as api\n",
    "import plotly.figure_factory as ff\n",
    "import tensorflow as tf\n",
    "from json import JSONEncoder\n",
    "\n",
    "apikey = os.environ['API_KEY']\n",
    "base_url = base_url = os.environ['API_BASE_URL'] + '/' + os.environ['API_CHANNEL'] + '/' + os.environ['API_F']\n",
    "\n",
    "history_size = 60\n",
    "start = str(datetime.datetime.now()).split('.')[0]\n",
    "end = str(datetime.datetime(2020, 3, 1))\n",
    "\n",
    "datetime_to = datetime.datetime.strptime(f\"{datetime.datetime.now().date()} 23:59:59\", \"%Y-%m-%d %H:%M:%S\")\n",
    "\n",
    "# NOTE: Take the day before to ensure only completed days\n",
    "datetime_to = datetime_to - datetime.timedelta(1)\n",
    "\n",
    "# NOTE: Add 1 second to get the start of the next day so it matches history_size.\n",
    "datetime_from = (datetime_to - datetime.timedelta(history_size)) + datetime.timedelta(seconds=1)\n",
    "\n",
    "print(start, end)"
   ]
  },
  {
   "cell_type": "code",
   "execution_count": null,
   "metadata": {},
   "outputs": [],
   "source": [
    "df = api.apicallv3(base_url, apikey, str(start), str(end), False, True)"
   ]
  },
  {
   "cell_type": "code",
   "execution_count": null,
   "metadata": {},
   "outputs": [],
   "source": [
    "df.columns"
   ]
  },
  {
   "cell_type": "code",
   "execution_count": null,
   "metadata": {},
   "outputs": [],
   "source": [
    "df[['downtime', 'times_down']]"
   ]
  },
  {
   "cell_type": "code",
   "execution_count": null,
   "metadata": {},
   "outputs": [],
   "source": [
    "corrs = df.corr()\n",
    "\n",
    "figure = ff.create_annotated_heatmap(\n",
    "    z=corrs.values,\n",
    "    x=list(corrs.columns),\n",
    "    y=list(corrs.index),\n",
    "    annotation_text=corrs.round(2).values,\n",
    "    showscale=True\n",
    ")\n",
    "\n",
    "figure.show()"
   ]
  },
  {
   "cell_type": "code",
   "execution_count": null,
   "metadata": {},
   "outputs": [],
   "source": [
    "df"
   ]
  },
  {
   "cell_type": "code",
   "execution_count": null,
   "metadata": {},
   "outputs": [],
   "source": [
    "df.describe()"
   ]
  },
  {
   "cell_type": "code",
   "execution_count": null,
   "metadata": {},
   "outputs": [],
   "source": [
    "dataset = tf.data.Dataset.from_tensor_slices(df.values)\n",
    "dataset = dataset.map(lambda row: tf.cast(row, 'float32'))\n",
    "dataset = dataset.window(history_size, shift=1, drop_remainder=True)\n",
    "dataset = dataset.flat_map(lambda window: window.batch(history_size))\n",
    "dataset = dataset.map(lambda window: (window[:,:-1], window[-1,-1]))\n",
    "\n",
    "arr = list(dataset.as_numpy_iterator())\n",
    "print(arr[0])"
   ]
  },
  {
   "cell_type": "code",
   "execution_count": null,
   "metadata": {},
   "outputs": [],
   "source": [
    "print(df.values)"
   ]
  }
 ],
 "metadata": {
  "language_info": {
   "codemirror_mode": {
    "name": "ipython",
    "version": 3
   },
   "file_extension": ".py",
   "mimetype": "text/x-python",
   "name": "python",
   "nbconvert_exporter": "python",
   "pygments_lexer": "ipython3",
   "version": "3.8.3-final"
  },
  "orig_nbformat": 2,
  "kernelspec": {
   "name": "python37664bit6fa1d0b5edc847c1a24d03619e62ae6b",
   "display_name": "Python 3.7.6 64-bit"
  }
 },
 "nbformat": 4,
 "nbformat_minor": 2
}